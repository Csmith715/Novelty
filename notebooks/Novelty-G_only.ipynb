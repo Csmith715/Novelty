{
 "cells": [
  {
   "cell_type": "code",
   "execution_count": 1,
   "metadata": {},
   "outputs": [],
   "source": [
    "import pandas as pd"
   ]
  },
  {
   "cell_type": "code",
   "execution_count": 2,
   "metadata": {},
   "outputs": [],
   "source": [
    "import multiprocessing as mp\n",
    "from sklearn import preprocessing"
   ]
  },
  {
   "cell_type": "code",
   "execution_count": 3,
   "metadata": {},
   "outputs": [],
   "source": [
    "citation_df = pd.read_csv('http://s3.amazonaws.com/data.patentsview.org/20181127/download/uspatentcitation.tsv.zip', sep='\\t')"
   ]
  },
  {
   "cell_type": "code",
   "execution_count": 4,
   "metadata": {},
   "outputs": [
    {
     "data": {
      "text/html": [
       "<div>\n",
       "<style scoped>\n",
       "    .dataframe tbody tr th:only-of-type {\n",
       "        vertical-align: middle;\n",
       "    }\n",
       "\n",
       "    .dataframe tbody tr th {\n",
       "        vertical-align: top;\n",
       "    }\n",
       "\n",
       "    .dataframe thead th {\n",
       "        text-align: right;\n",
       "    }\n",
       "</style>\n",
       "<table border=\"1\" class=\"dataframe\">\n",
       "  <thead>\n",
       "    <tr style=\"text-align: right;\">\n",
       "      <th></th>\n",
       "      <th>uuid</th>\n",
       "      <th>patent_id</th>\n",
       "      <th>citation_id</th>\n",
       "      <th>date</th>\n",
       "      <th>name</th>\n",
       "      <th>kind</th>\n",
       "      <th>country</th>\n",
       "      <th>category</th>\n",
       "      <th>sequence</th>\n",
       "    </tr>\n",
       "  </thead>\n",
       "  <tbody>\n",
       "    <tr>\n",
       "      <th>0</th>\n",
       "      <td>00000jd7thmiucpaol1hm1835</td>\n",
       "      <td>5354551</td>\n",
       "      <td>4875247</td>\n",
       "      <td>1989-10-01</td>\n",
       "      <td>Berg</td>\n",
       "      <td>NaN</td>\n",
       "      <td>US</td>\n",
       "      <td>NaN</td>\n",
       "      <td>11</td>\n",
       "    </tr>\n",
       "    <tr>\n",
       "      <th>1</th>\n",
       "      <td>00000l0ooxrvfv6jkenobhwis</td>\n",
       "      <td>D674253</td>\n",
       "      <td>D519335</td>\n",
       "      <td>2006-04-01</td>\n",
       "      <td>Ishii</td>\n",
       "      <td>S</td>\n",
       "      <td>US</td>\n",
       "      <td>cited by examiner</td>\n",
       "      <td>13</td>\n",
       "    </tr>\n",
       "    <tr>\n",
       "      <th>2</th>\n",
       "      <td>00000nv59m7vgyvfxehud4477</td>\n",
       "      <td>D809697</td>\n",
       "      <td>1963218</td>\n",
       "      <td>1934-06-01</td>\n",
       "      <td>Wakefield</td>\n",
       "      <td>A</td>\n",
       "      <td>US</td>\n",
       "      <td>cited by examiner</td>\n",
       "      <td>0</td>\n",
       "    </tr>\n",
       "    <tr>\n",
       "      <th>3</th>\n",
       "      <td>00001jxaxme3a89hidjtdkoi4</td>\n",
       "      <td>D808172</td>\n",
       "      <td>7207426</td>\n",
       "      <td>2007-04-01</td>\n",
       "      <td>Godshaw et al.</td>\n",
       "      <td>B2</td>\n",
       "      <td>US</td>\n",
       "      <td>cited by applicant</td>\n",
       "      <td>14</td>\n",
       "    </tr>\n",
       "    <tr>\n",
       "      <th>4</th>\n",
       "      <td>00001nlwuimui60vu3k1yzjqd</td>\n",
       "      <td>8683318</td>\n",
       "      <td>6642945</td>\n",
       "      <td>2003-11-01</td>\n",
       "      <td>Sharpe</td>\n",
       "      <td>B1</td>\n",
       "      <td>US</td>\n",
       "      <td>cited by examiner</td>\n",
       "      <td>6</td>\n",
       "    </tr>\n",
       "  </tbody>\n",
       "</table>\n",
       "</div>"
      ],
      "text/plain": [
       "                        uuid patent_id citation_id        date  \\\n",
       "0  00000jd7thmiucpaol1hm1835   5354551     4875247  1989-10-01   \n",
       "1  00000l0ooxrvfv6jkenobhwis   D674253     D519335  2006-04-01   \n",
       "2  00000nv59m7vgyvfxehud4477   D809697     1963218  1934-06-01   \n",
       "3  00001jxaxme3a89hidjtdkoi4   D808172     7207426  2007-04-01   \n",
       "4  00001nlwuimui60vu3k1yzjqd   8683318     6642945  2003-11-01   \n",
       "\n",
       "             name kind country            category  sequence  \n",
       "0            Berg  NaN      US                 NaN        11  \n",
       "1           Ishii    S      US   cited by examiner        13  \n",
       "2       Wakefield    A      US   cited by examiner         0  \n",
       "3  Godshaw et al.   B2      US  cited by applicant        14  \n",
       "4          Sharpe   B1      US   cited by examiner         6  "
      ]
     },
     "execution_count": 4,
     "metadata": {},
     "output_type": "execute_result"
    }
   ],
   "source": [
    "citation_df.head()"
   ]
  },
  {
   "cell_type": "code",
   "execution_count": 6,
   "metadata": {},
   "outputs": [],
   "source": [
    "df = pd.read_json('cs_cpc_training_500.json')"
   ]
  },
  {
   "cell_type": "code",
   "execution_count": 7,
   "metadata": {},
   "outputs": [
    {
     "data": {
      "text/html": [
       "<div>\n",
       "<style scoped>\n",
       "    .dataframe tbody tr th:only-of-type {\n",
       "        vertical-align: middle;\n",
       "    }\n",
       "\n",
       "    .dataframe tbody tr th {\n",
       "        vertical-align: top;\n",
       "    }\n",
       "\n",
       "    .dataframe thead th {\n",
       "        text-align: right;\n",
       "    }\n",
       "</style>\n",
       "<table border=\"1\" class=\"dataframe\">\n",
       "  <thead>\n",
       "    <tr style=\"text-align: right;\">\n",
       "      <th></th>\n",
       "      <th>publication_number</th>\n",
       "      <th>grant_date</th>\n",
       "      <th>cpc</th>\n",
       "    </tr>\n",
       "  </thead>\n",
       "  <tbody>\n",
       "    <tr>\n",
       "      <th>0</th>\n",
       "      <td>9022049</td>\n",
       "      <td>20150505</td>\n",
       "      <td>[A45, A45B, A]</td>\n",
       "    </tr>\n",
       "    <tr>\n",
       "      <th>1</th>\n",
       "      <td>9025696</td>\n",
       "      <td>20150505</td>\n",
       "      <td>[H04L27/26, H04L, H04B7/06, H04B7/0413, H04B7/...</td>\n",
       "    </tr>\n",
       "    <tr>\n",
       "      <th>10</th>\n",
       "      <td>9033154</td>\n",
       "      <td>20150519</td>\n",
       "      <td>[A61B90/00, A, B, A61, B65D, B65, A61B, A61B50...</td>\n",
       "    </tr>\n",
       "    <tr>\n",
       "      <th>100</th>\n",
       "      <td>9036956</td>\n",
       "      <td>20150519</td>\n",
       "      <td>[G02B6/0081, G02B6/24, G02B6/10, G02B6/42, G02...</td>\n",
       "    </tr>\n",
       "    <tr>\n",
       "      <th>1000</th>\n",
       "      <td>9034866</td>\n",
       "      <td>20150519</td>\n",
       "      <td>[C07D513/00, C07D487/00, C, C07D, C07D519/00, ...</td>\n",
       "    </tr>\n",
       "  </tbody>\n",
       "</table>\n",
       "</div>"
      ],
      "text/plain": [
       "     publication_number  grant_date  \\\n",
       "0               9022049    20150505   \n",
       "1               9025696    20150505   \n",
       "10              9033154    20150519   \n",
       "100             9036956    20150519   \n",
       "1000            9034866    20150519   \n",
       "\n",
       "                                                    cpc  \n",
       "0                                        [A45, A45B, A]  \n",
       "1     [H04L27/26, H04L, H04B7/06, H04B7/0413, H04B7/...  \n",
       "10    [A61B90/00, A, B, A61, B65D, B65, A61B, A61B50...  \n",
       "100   [G02B6/0081, G02B6/24, G02B6/10, G02B6/42, G02...  \n",
       "1000  [C07D513/00, C07D487/00, C, C07D, C07D519/00, ...  "
      ]
     },
     "execution_count": 7,
     "metadata": {},
     "output_type": "execute_result"
    }
   ],
   "source": [
    "df.head()"
   ]
  },
  {
   "cell_type": "code",
   "execution_count": 8,
   "metadata": {},
   "outputs": [],
   "source": [
    "df_CPC_G = df[df['cpc'].str.contains(\"G\", regex=False)]"
   ]
  },
  {
   "cell_type": "code",
   "execution_count": 9,
   "metadata": {},
   "outputs": [
    {
     "name": "stderr",
     "output_type": "stream",
     "text": [
      "/home/ec2-user/anaconda3/envs/tensorflow_p36/lib/python3.6/site-packages/ipykernel/__main__.py:1: SettingWithCopyWarning: \n",
      "A value is trying to be set on a copy of a slice from a DataFrame.\n",
      "Try using .loc[row_indexer,col_indexer] = value instead\n",
      "\n",
      "See the caveats in the documentation: http://pandas.pydata.org/pandas-docs/stable/indexing.html#indexing-view-versus-copy\n",
      "  if __name__ == '__main__':\n"
     ]
    }
   ],
   "source": [
    "df_CPC_G['pub_date'] = pd.to_datetime(df_CPC_G['grant_date'], format='%Y%m%d')"
   ]
  },
  {
   "cell_type": "code",
   "execution_count": 10,
   "metadata": {},
   "outputs": [],
   "source": [
    "df_CPC_G = df_CPC_G.loc[df_CPC_G['pub_date'] > '2015-01-01']"
   ]
  },
  {
   "cell_type": "code",
   "execution_count": 15,
   "metadata": {},
   "outputs": [],
   "source": [
    "df_CPC_G['GrantYearMonth'] = pd.to_datetime(df_CPC_G['pub_date']).dt.to_period('M')"
   ]
  },
  {
   "cell_type": "code",
   "execution_count": 133,
   "metadata": {},
   "outputs": [],
   "source": [
    "def extract_section_to_sc(dataframe):\n",
    "    sect = []\n",
    "    for i in range(dataframe.shape[0]):\n",
    "        st = dataframe.iloc[i,2]\n",
    "        f = []\n",
    "        for x in st:\n",
    "            g = x[0:4]\n",
    "            f.append(g)\n",
    "        f = list(set(f))\n",
    "        sect.append(f)\n",
    "    return sect"
   ]
  },
  {
   "cell_type": "code",
   "execution_count": 134,
   "metadata": {},
   "outputs": [],
   "source": [
    "df_CPC_G['short_cpc'] = extract_section_to_sc(df_CPC_G)"
   ]
  },
  {
   "cell_type": "code",
   "execution_count": 135,
   "metadata": {},
   "outputs": [],
   "source": [
    "mlb = preprocessing.MultiLabelBinarizer()\n",
    "cpc_ohe_df = pd.DataFrame(mlb.fit_transform(df_CPC_G['short_cpc']),columns=mlb.classes_, index=df_CPC_G.index)"
   ]
  },
  {
   "cell_type": "code",
   "execution_count": 136,
   "metadata": {},
   "outputs": [],
   "source": [
    "df1 = pd.concat([df_CPC_G, cpc_ohe_df], axis = 1)"
   ]
  },
  {
   "cell_type": "code",
   "execution_count": 137,
   "metadata": {},
   "outputs": [],
   "source": [
    "df1 = df1.drop(['cpc', 'pub_date', 'publication_number', 'grant_date', 'short_cpc'], axis=1)"
   ]
  },
  {
   "cell_type": "code",
   "execution_count": 138,
   "metadata": {},
   "outputs": [
    {
     "data": {
      "text/html": [
       "<div>\n",
       "<style scoped>\n",
       "    .dataframe tbody tr th:only-of-type {\n",
       "        vertical-align: middle;\n",
       "    }\n",
       "\n",
       "    .dataframe tbody tr th {\n",
       "        vertical-align: top;\n",
       "    }\n",
       "\n",
       "    .dataframe thead th {\n",
       "        text-align: right;\n",
       "    }\n",
       "</style>\n",
       "<table border=\"1\" class=\"dataframe\">\n",
       "  <thead>\n",
       "    <tr style=\"text-align: right;\">\n",
       "      <th></th>\n",
       "      <th>GrantYearMonth</th>\n",
       "      <th>A</th>\n",
       "      <th>A01</th>\n",
       "      <th>A01B</th>\n",
       "      <th>A01C</th>\n",
       "      <th>A01D</th>\n",
       "      <th>A01F</th>\n",
       "      <th>A01G</th>\n",
       "      <th>A01H</th>\n",
       "      <th>A01J</th>\n",
       "      <th>...</th>\n",
       "      <th>H04N</th>\n",
       "      <th>H04Q</th>\n",
       "      <th>H04R</th>\n",
       "      <th>H04S</th>\n",
       "      <th>H04W</th>\n",
       "      <th>H05</th>\n",
       "      <th>H05B</th>\n",
       "      <th>H05G</th>\n",
       "      <th>H05H</th>\n",
       "      <th>H05K</th>\n",
       "    </tr>\n",
       "  </thead>\n",
       "  <tbody>\n",
       "    <tr>\n",
       "      <th>100</th>\n",
       "      <td>2015-05</td>\n",
       "      <td>0</td>\n",
       "      <td>0</td>\n",
       "      <td>0</td>\n",
       "      <td>0</td>\n",
       "      <td>0</td>\n",
       "      <td>0</td>\n",
       "      <td>0</td>\n",
       "      <td>0</td>\n",
       "      <td>0</td>\n",
       "      <td>...</td>\n",
       "      <td>0</td>\n",
       "      <td>0</td>\n",
       "      <td>0</td>\n",
       "      <td>0</td>\n",
       "      <td>0</td>\n",
       "      <td>0</td>\n",
       "      <td>0</td>\n",
       "      <td>0</td>\n",
       "      <td>0</td>\n",
       "      <td>0</td>\n",
       "    </tr>\n",
       "    <tr>\n",
       "      <th>1000001</th>\n",
       "      <td>2016-04</td>\n",
       "      <td>0</td>\n",
       "      <td>0</td>\n",
       "      <td>0</td>\n",
       "      <td>0</td>\n",
       "      <td>0</td>\n",
       "      <td>0</td>\n",
       "      <td>0</td>\n",
       "      <td>0</td>\n",
       "      <td>0</td>\n",
       "      <td>...</td>\n",
       "      <td>1</td>\n",
       "      <td>0</td>\n",
       "      <td>0</td>\n",
       "      <td>0</td>\n",
       "      <td>0</td>\n",
       "      <td>0</td>\n",
       "      <td>0</td>\n",
       "      <td>0</td>\n",
       "      <td>0</td>\n",
       "      <td>0</td>\n",
       "    </tr>\n",
       "    <tr>\n",
       "      <th>1000002</th>\n",
       "      <td>2016-04</td>\n",
       "      <td>0</td>\n",
       "      <td>0</td>\n",
       "      <td>0</td>\n",
       "      <td>0</td>\n",
       "      <td>0</td>\n",
       "      <td>0</td>\n",
       "      <td>0</td>\n",
       "      <td>0</td>\n",
       "      <td>0</td>\n",
       "      <td>...</td>\n",
       "      <td>0</td>\n",
       "      <td>0</td>\n",
       "      <td>0</td>\n",
       "      <td>0</td>\n",
       "      <td>0</td>\n",
       "      <td>0</td>\n",
       "      <td>0</td>\n",
       "      <td>0</td>\n",
       "      <td>0</td>\n",
       "      <td>0</td>\n",
       "    </tr>\n",
       "    <tr>\n",
       "      <th>1000005</th>\n",
       "      <td>2016-04</td>\n",
       "      <td>0</td>\n",
       "      <td>0</td>\n",
       "      <td>0</td>\n",
       "      <td>0</td>\n",
       "      <td>0</td>\n",
       "      <td>0</td>\n",
       "      <td>0</td>\n",
       "      <td>0</td>\n",
       "      <td>0</td>\n",
       "      <td>...</td>\n",
       "      <td>0</td>\n",
       "      <td>0</td>\n",
       "      <td>0</td>\n",
       "      <td>0</td>\n",
       "      <td>0</td>\n",
       "      <td>0</td>\n",
       "      <td>0</td>\n",
       "      <td>0</td>\n",
       "      <td>0</td>\n",
       "      <td>0</td>\n",
       "    </tr>\n",
       "    <tr>\n",
       "      <th>1000010</th>\n",
       "      <td>2016-04</td>\n",
       "      <td>0</td>\n",
       "      <td>0</td>\n",
       "      <td>0</td>\n",
       "      <td>0</td>\n",
       "      <td>0</td>\n",
       "      <td>0</td>\n",
       "      <td>0</td>\n",
       "      <td>0</td>\n",
       "      <td>0</td>\n",
       "      <td>...</td>\n",
       "      <td>0</td>\n",
       "      <td>0</td>\n",
       "      <td>0</td>\n",
       "      <td>0</td>\n",
       "      <td>0</td>\n",
       "      <td>0</td>\n",
       "      <td>0</td>\n",
       "      <td>0</td>\n",
       "      <td>0</td>\n",
       "      <td>0</td>\n",
       "    </tr>\n",
       "  </tbody>\n",
       "</table>\n",
       "<p>5 rows × 544 columns</p>\n",
       "</div>"
      ],
      "text/plain": [
       "        GrantYearMonth  A  A01  A01B  A01C  A01D  A01F  A01G  A01H  A01J  ...  \\\n",
       "100            2015-05  0    0     0     0     0     0     0     0     0  ...   \n",
       "1000001        2016-04  0    0     0     0     0     0     0     0     0  ...   \n",
       "1000002        2016-04  0    0     0     0     0     0     0     0     0  ...   \n",
       "1000005        2016-04  0    0     0     0     0     0     0     0     0  ...   \n",
       "1000010        2016-04  0    0     0     0     0     0     0     0     0  ...   \n",
       "\n",
       "         H04N  H04Q  H04R  H04S  H04W  H05  H05B  H05G  H05H  H05K  \n",
       "100         0     0     0     0     0    0     0     0     0     0  \n",
       "1000001     1     0     0     0     0    0     0     0     0     0  \n",
       "1000002     0     0     0     0     0    0     0     0     0     0  \n",
       "1000005     0     0     0     0     0    0     0     0     0     0  \n",
       "1000010     0     0     0     0     0    0     0     0     0     0  \n",
       "\n",
       "[5 rows x 544 columns]"
      ]
     },
     "execution_count": 138,
     "metadata": {},
     "output_type": "execute_result"
    }
   ],
   "source": [
    "df1.head()"
   ]
  },
  {
   "cell_type": "code",
   "execution_count": 128,
   "metadata": {},
   "outputs": [],
   "source": [
    "import math"
   ]
  },
  {
   "cell_type": "code",
   "execution_count": 129,
   "metadata": {},
   "outputs": [],
   "source": [
    "def test_idf(series):\n",
    "    idf = math.log10(len(series)/(1 + series.sum()))\n",
    "    return(idf)"
   ]
  },
  {
   "cell_type": "code",
   "execution_count": 108,
   "metadata": {},
   "outputs": [],
   "source": [
    "dfgroup = df1.groupby(['GrantYearMonth']).agg(test_idf)"
   ]
  },
  {
   "cell_type": "code",
   "execution_count": 139,
   "metadata": {},
   "outputs": [],
   "source": [
    "test = ['G06Q', 'G06N']"
   ]
  },
  {
   "cell_type": "code",
   "execution_count": 140,
   "metadata": {},
   "outputs": [],
   "source": [
    "df2 = pd.DataFrame(dfgroup.to_records())"
   ]
  },
  {
   "cell_type": "code",
   "execution_count": 141,
   "metadata": {},
   "outputs": [],
   "source": [
    "test_df = df2[test]"
   ]
  },
  {
   "cell_type": "code",
   "execution_count": 142,
   "metadata": {},
   "outputs": [],
   "source": [
    "import matplotlib.pyplot as plt\n",
    "import seaborn as sns\n",
    "import numpy as np"
   ]
  },
  {
   "cell_type": "code",
   "execution_count": 143,
   "metadata": {},
   "outputs": [],
   "source": [
    "X = np.arange(len(df2))\n",
    "Y = test_df.sum(axis=1)/df2.iloc[:,1:].sum(axis=1)"
   ]
  },
  {
   "cell_type": "code",
   "execution_count": 146,
   "metadata": {},
   "outputs": [
    {
     "data": {
      "image/png": "[encoded data removed]",
      "text/plain": [
       "<Figure size 360x360 with 2 Axes>"
      ]
     },
     "metadata": {},
     "output_type": "display_data"
    }
   ],
   "source": [
    "fig, ax = plt.subplots(figsize=(5,5))\n",
    "sns.kdeplot(X, Y, cmap=\"Blues\", shade=True, shade_lowest=False, ax=ax, cbar = True)\n",
    "ax.set_xlim(0, None)\n",
    "ax.set_ylim(0, None)\n",
    "plt.show()"
   ]
  },
  {
   "cell_type": "code",
   "execution_count": null,
   "metadata": {},
   "outputs": [],
   "source": [
    "test2 = []"
   ]
  }
 ],
 "metadata": {
  "kernelspec": {
   "display_name": "conda_tensorflow_p36",
   "language": "python",
   "name": "conda_tensorflow_p36"
  },
  "language_info": {
   "codemirror_mode": {
    "name": "ipython",
    "version": 3
   },
   "file_extension": ".py",
   "mimetype": "text/x-python",
   "name": "python",
   "nbconvert_exporter": "python",
   "pygments_lexer": "ipython3",
   "version": "3.6.5"
  }
 },
 "nbformat": 4,
 "nbformat_minor": 4
}
