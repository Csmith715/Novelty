{
 "cells": [
  {
   "cell_type": "code",
   "execution_count": null,
   "metadata": {},
   "outputs": [],
   "source": [
    "# https://www.visualcapitalist.com/the-history-of-wearable-technology/"
   ]
  },
  {
   "cell_type": "code",
   "execution_count": 1,
   "metadata": {
    "scrolled": true
   },
   "outputs": [],
   "source": [
    "# !pip install --upgrade pip\n",
    "# !pip install --upgrade pandas\n",
    "# !pip install --upgrade seaborn\n",
    "# !pip install --upgrade scipy\n",
    "# !pip install psycopg2-binary"
   ]
  },
  {
   "cell_type": "markdown",
   "metadata": {},
   "source": [
    "## Adoption life cycle\n",
    "The cumulative number of patents plotted over time follows an s-curve with discernable life cycle phases. This is imprecise alone but useful as an overview. If a technology isn’t in its final phase, the s-curve isn’t clearly visible which makes identifying a life cycle more difficult.\n",
    "\n",
    "## CPC Diversity\n",
    "Continuously decreasing values (negative trend line) indicates that the variety of technological alternatives is slowly consolidating towards a dominationg field.\n",
    "\n",
    "## CPC concentration\n",
    "If a single classification is beginning to dominate the others (>50%), the overall variety is expected to decline until one category ultimately dominates all others. This gives way to dicontinuity/decline.\n",
    "\n",
    "## CPC Recombination\n",
    "A patent has precedence when it has at least one pair of CPC groups that were previously unconnected. As a field stagnates, new inventions are more often the results of recombination of existing technologies."
   ]
  },
  {
   "cell_type": "code",
   "execution_count": 2,
   "metadata": {},
   "outputs": [],
   "source": [
    "# Jupyter magics to make life easier\n",
    "# View plots in adjacent cell\n",
    "%matplotlib inline\n",
    "\n",
    "%load_ext autoreload\n",
    "\n",
    "%autoreload 2\n",
    "\n",
    "from precedence import prima_facie, pf_visualizations\n",
    "\n",
    "import matplotlib.pyplot as plt\n",
    "import seaborn as sns"
   ]
  },
  {
   "cell_type": "markdown",
   "metadata": {},
   "source": [
    "# Uncomment one of the pairs for a test case or add your own"
   ]
  },
  {
   "cell_type": "code",
   "execution_count": 3,
   "metadata": {},
   "outputs": [],
   "source": [
    "# uspto_patent_id = \"US-6619835-B2\" # casio wearable\n",
    "# seed_name = \"casio\"\n",
    "\n",
    "# uspto_patent_id = \"US-7128988-B2\" # magnetic materials\n",
    "# seed_name = \"magmat\"\n",
    "\n",
    "# uspto_patent_id = \"US-7640837-B2\" # sawstop\n",
    "# seed_name = \"sawstop\"\n",
    "\n",
    "# uspto_patent_id = \"US-7743213-B2\" # nas\n",
    "# seed_name = \"nas\"\n",
    "\n",
    "# uspto_patent_id = \"US-9339713-B2\" # nike golf hud\n",
    "# seed_name = \"nike\"\n",
    "\n",
    "# uspto_patent_id = \"US-20160378108-A1\" # amazon drone collective\n",
    "# seed_name = \"amazon_drone\"\n",
    "\n",
    "# Seawater JetFuel\n",
    "# uspto_patent_id = \"US-9303323-B2\"\n",
    "# seed_name = \"seawater_jetfuel\"\n",
    "\n",
    "# Nokia mobile phone\n",
    "uspto_patent_id = \"US-20020028693-A1\"\n",
    "seed_name = \"nokia\"\n",
    "\n",
    "# uspto_patent_id = \"US-20060094518-A1\"\n",
    "# seed_name = \"butt_kicking\"\n",
    "\n",
    "# PCR\n",
    "# US-4683202-A\n",
    "# uspto_patent_id = \"US-4683202-A\"\n",
    "# seed_name = \"pcr\"\n",
    "\n",
    "# 3DPrinting\n",
    "# US-4575330-A\n",
    "# uspto_patent_id = \"US-4575330-A\"\n",
    "# seed_name = \"3dprinting\"\n",
    "\n",
    "# LabOnAChip\n",
    "# US-5858195-A \n",
    "# uspto_patent_id = \"US-5858195-A\"\n",
    "# seed_name = \"labonachip\"\n",
    "\n",
    "# CRISPR (this is an MIT patent which is in litigation with UC Berkeley who says they were first)\n",
    "# US-8697359-B1\n",
    "# uspto_patent_id = \"US-8697359-B1\"\n",
    "# seed_name = \"crisper\"\n",
    "\n",
    "# uspto_patent_id = \"US-6139035-A\"\n",
    "# seed_name = \"scooter_brake\"\n",
    "\n",
    "# uspto_patent_id = \"US-9051066-B1\"\n",
    "# seed_name = \"bunch_o_balloons\"\n",
    "\n",
    "# uspto_patent_id = \"US-5960411-A\"\n",
    "# seed_name = \"amazon_sales\"\n",
    "\n",
    "# uspto_patent_id = \"US-8527057-B2\"\n",
    "# seed_name = \"bionic_eye\"\n",
    "\n",
    "# uspto_patent_id = \"US-7071258-B1\"\n",
    "# seed_name = \"graphene\"\n",
    "\n",
    "# uspto_patent_id = \"US-6618592-B1\"\n",
    "# seed_name = \"3g\"\n",
    "\n",
    "# uspto_patent_id = \"US-20070291130-A1\"\n",
    "# seed_name = \"autonomous_vehicle_vision\"\n",
    "\n",
    "# uspto_patent_id = \"US-6073115-A\"\n",
    "# seed_name = \"vr_generator\""
   ]
  },
  {
   "cell_type": "code",
   "execution_count": 4,
   "metadata": {
    "scrolled": true
   },
   "outputs": [
    {
     "name": "stdout",
     "output_type": "stream",
     "text": [
      "Logging into OKTA\n",
      "Login Success\n",
      "Requesting Similarity Job\n",
      "{'job_id': 'ab94fdb6-fbe5-4f60-8dff-2be9a383729e'}\n",
      "Job started, job_id = ab94fdb6-fbe5-4f60-8dff-2be9a383729e\n",
      "Waiting for Job, jobs take about 2 minutes\n",
      "Job Complete\n",
      "Checking Results\n",
      "Downloading results file\n",
      "Results file downloaded to nokia.zip\n"
     ]
    }
   ],
   "source": [
    "# If you haven't used the similarity console to download similar patents then change get_similar to True\n",
    "# and this sim_pats_file to be the location you want to save the zip file\n",
    "sim_pats_file = f\"{seed_name}.zip\"\n",
    "\n",
    "result = prima_facie.get_sim_patents(seed_pat_id=uspto_patent_id,\n",
    "                                                sim_pats_file = sim_pats_file,\n",
    "                                                get_similar=True)"
   ]
  },
  {
   "cell_type": "code",
   "execution_count": 6,
   "metadata": {},
   "outputs": [
    {
     "name": "stdout",
     "output_type": "stream",
     "text": [
      "5.0\n"
     ]
    }
   ],
   "source": [
    "indicators, data, section_df, seed_year = prima_facie.get_indicators(sim_df=result, seed_patent=uspto_patent_id)\n",
    "\n",
    "score = 1 + sum(indicators.values())\n",
    "\n",
    "print(score)"
   ]
  },
  {
   "cell_type": "code",
   "execution_count": 7,
   "metadata": {},
   "outputs": [
    {
     "data": {
      "text/plain": [
       "2000"
      ]
     },
     "execution_count": 7,
     "metadata": {},
     "output_type": "execute_result"
    }
   ],
   "source": [
    "seed_year"
   ]
  },
  {
   "cell_type": "markdown",
   "metadata": {},
   "source": [
    "# How we extract segments of increasing and decreasing trend in cpc diversity"
   ]
  },
  {
   "cell_type": "code",
   "execution_count": null,
   "metadata": {},
   "outputs": [],
   "source": [
    "# data, section_df = prima_facie.agg_yearly(result, uspto_patent_id)"
   ]
  },
  {
   "cell_type": "code",
   "execution_count": null,
   "metadata": {},
   "outputs": [],
   "source": [
    "seed = prima_facie.get_priority_date(patent_ids=uspto_patent_id, single=True)\n",
    "priority_yr = seed['priority_dt'][0].year"
   ]
  },
  {
   "cell_type": "code",
   "execution_count": null,
   "metadata": {},
   "outputs": [],
   "source": [
    "df = data.sort_values('priority_yr', ascending=True)\n",
    "all_years = data['priority_yr'].unique()\n",
    "columns_to_norm = ['cpc_diversity']\n",
    "for i in columns_to_norm:\n",
    "    df[f\"norm_{i}\"] = (df[i]-df[i].min())/(df[i].max()-df[i].min())\n",
    "x = df['norm_cpc_diversity'].values\n",
    "labels = prima_facie.label_status(x)\n",
    "seg_list, idx_list = prima_facie.bottom_up(x, labels, 0.03, k=1, step=4)\n",
    "segments = prima_facie.combine_segment(x, labels, seg_list, idx_list)\n",
    "\n",
    "# Plot the segments\n",
    "plt.figure(figsize=(16, 4))\n",
    "status_color = ['c', 'black', 'gray']\n",
    "plt.plot(range(len(x)), x, '-', label='Normalized CPC Diversity')\n",
    "for t in range(len(x)):\n",
    "    plt.plot([t], [x[t]], marker='o', markersize=5, c=status_color[int(labels[t])])\n",
    "\n",
    "for seg, idx in zip(seg_list, idx_list):\n",
    "    line, slope = prima_facie.approximate_line(seg)\n",
    "    plt.plot(range(idx[0], idx[1]), line, '--', linewidth=2, c='c' if slope > 0 else 'gray')\n",
    "\n",
    "for seg in segments:\n",
    "    if seg[2] == prima_facie.INC:\n",
    "        plt.plot([seg[0], seg[0]], [0, 1], ':', color='c', label='upward segment')\n",
    "        plt.plot([seg[1]-1, seg[1]-1], [0, 1], ':', color='c')\n",
    "    elif seg[2] == prima_facie.DEC:\n",
    "        plt.plot([seg[0], seg[0]], [0, 1], ':', color='gray', label='downward segment')\n",
    "        plt.plot([seg[1]-1, seg[1]-1], [0, 1], ':', color='gray')\n",
    "\n",
    "plt.xticks(range(len(all_years)), all_years)\n",
    "plt.legend(loc='upper right')"
   ]
  },
  {
   "cell_type": "markdown",
   "metadata": {},
   "source": [
    "# Graphical analysis"
   ]
  },
  {
   "cell_type": "code",
   "execution_count": null,
   "metadata": {},
   "outputs": [],
   "source": [
    "result.loc[result['priority_yr'] > priority_yr, 'priority'] = 'after'\n",
    "result.loc[result['priority_yr'] <= priority_yr, 'priority'] = 'before'\n",
    "fig, ax = plt.subplots(figsize=(26,12))\n",
    "sns.countplot(x='priority_yr', data=result, hue='priority', ax=ax)"
   ]
  },
  {
   "cell_type": "markdown",
   "metadata": {},
   "source": [
    "# Adoption S-curve"
   ]
  },
  {
   "cell_type": "markdown",
   "metadata": {},
   "source": [
    "The cumulative number of patents plotted over time follows an s-curve with discernable life cycle phases. This visual is imprecise alone but useful as an overview. If a technology isn’t in its final phase, the s-curve isn’t clearly visible which makes identifying a life cycle more difficult. "
   ]
  },
  {
   "cell_type": "code",
   "execution_count": null,
   "metadata": {},
   "outputs": [],
   "source": [
    "fig, ax = plt.subplots(figsize=(16,4))\n",
    "sns.lineplot(x='priority_yr', y='applications_cumsum', data=data, hue='adoption_quartiles')\n",
    "plt.savefig(f\"{seed_name}_adoption.png\")\n"
   ]
  },
  {
   "cell_type": "markdown",
   "metadata": {},
   "source": [
    "# Trend in similarity"
   ]
  },
  {
   "cell_type": "code",
   "execution_count": null,
   "metadata": {},
   "outputs": [],
   "source": [
    "fig, ax = plt.subplots(figsize=(16,4))\n",
    "sns.lineplot(x='priority_yr', y='cos_sim', data=data, hue='priority')\n",
    "plt.savefig(f\"{seed_name}_similarity.png\")\n"
   ]
  },
  {
   "cell_type": "markdown",
   "metadata": {},
   "source": [
    "# Section concentration"
   ]
  },
  {
   "cell_type": "code",
   "execution_count": null,
   "metadata": {},
   "outputs": [],
   "source": [
    "fig, ax = plt.subplots(figsize=(16,4))\n",
    "sns.lineplot(x='priority_yr', y='section_concentration', data=data, hue='priority')\n",
    "plt.savefig(f\"{seed_name}_concentration.png\")"
   ]
  },
  {
   "cell_type": "markdown",
   "metadata": {},
   "source": [
    "# CPC diversity"
   ]
  },
  {
   "cell_type": "code",
   "execution_count": null,
   "metadata": {},
   "outputs": [],
   "source": [
    "fig, ax = plt.subplots(figsize=(16,4))\n",
    "sns.lineplot(x='priority_yr', y='cpc_diversity', data=data, hue='priority')\n",
    "plt.savefig(f\"{seed_name}_diversity.png\")"
   ]
  },
  {
   "cell_type": "markdown",
   "metadata": {},
   "source": [
    "# Technological changes"
   ]
  },
  {
   "cell_type": "code",
   "execution_count": null,
   "metadata": {},
   "outputs": [],
   "source": [
    "pf_visualizations.create_timeline(data=data,\n",
    "                    x=\"applications\",\n",
    "                    y=\"applicants\",\n",
    "                    size=\"applicants\",\n",
    "                    hue=\"priority_yr\",\n",
    "                    year_col=\"priority_yr\",\n",
    "                    seed_year=priority_yr,\n",
    "                    highlight_seed_year=True,\n",
    "                    savefig=True,\n",
    "                    showplot=True,\n",
    "                    fig_filename=f\"{seed_name}_tech_changes.png\"\n",
    "                   )"
   ]
  },
  {
   "cell_type": "markdown",
   "metadata": {},
   "source": [
    "# Stages of maturity"
   ]
  },
  {
   "cell_type": "code",
   "execution_count": null,
   "metadata": {},
   "outputs": [],
   "source": [
    "pf_visualizations.create_timeline(data=data,\n",
    "                    x=\"applications\",\n",
    "                    y=\"delta_applications\",\n",
    "                    size=\"applicants\",\n",
    "                    hue=\"priority_yr\",\n",
    "                    year_col=\"priority_yr\",\n",
    "                    highlight_seed_year=True,\n",
    "                    seed_year=priority_yr,\n",
    "                    savefig=True,\n",
    "                    showplot=True,\n",
    "                    fig_filename=f\"{seed_name}_delta_apps.png\"\n",
    "                   )"
   ]
  },
  {
   "cell_type": "markdown",
   "metadata": {},
   "source": [
    "# Section Concentration"
   ]
  },
  {
   "cell_type": "code",
   "execution_count": null,
   "metadata": {},
   "outputs": [],
   "source": [
    "all_years = section_df['year'].unique()\n",
    "for year in all_years:\n",
    "    cpc1_count = section_df['application_count'][section_df['year']==year]\n",
    "    cpc1_total = section_df['application_count'][section_df['year']==year].sum()\n",
    "    section_df.loc[section_df['year']==year,\"section_concentration\"] = cpc1_count/cpc1_total\n",
    "\n",
    "import pandas as pd\n",
    "new_cpc1 = pd.pivot_table(section_df,\n",
    "                index=[\"year\"],\n",
    "                values=[\"section_concentration\"],\n",
    "                columns=[\"section\"],\n",
    "                aggfunc=['sum'],\n",
    "                fill_value=0)\n",
    "\n",
    "colors=sns.color_palette(\"Paired\")\n",
    "new_cpc1.plot.bar(stacked=True, figsize=(10,8),color=colors, legend=False)\n",
    "plt.legend(loc='center left', bbox_to_anchor=(1.0, 0.5))\n"
   ]
  },
  {
   "cell_type": "code",
   "execution_count": null,
   "metadata": {},
   "outputs": [],
   "source": [
    "fig, ax = plt.subplots(figsize=(24,6))\n",
    "sns.barplot(x='priority_yr', y='section_concentration', data=data)\n",
    "plt.savefig(f\"{seed_name}_cpc_concentration.png\")"
   ]
  },
  {
   "cell_type": "code",
   "execution_count": null,
   "metadata": {},
   "outputs": [],
   "source": []
  }
 ],
 "metadata": {
  "kernelspec": {
   "display_name": "Python 3",
   "language": "python",
   "name": "python3"
  },
  "language_info": {
   "codemirror_mode": {
    "name": "ipython",
    "version": 3
   },
   "file_extension": ".py",
   "mimetype": "text/x-python",
   "name": "python",
   "nbconvert_exporter": "python",
   "pygments_lexer": "ipython3",
   "version": "3.6.9"
  }
 },
 "nbformat": 4,
 "nbformat_minor": 2
}
